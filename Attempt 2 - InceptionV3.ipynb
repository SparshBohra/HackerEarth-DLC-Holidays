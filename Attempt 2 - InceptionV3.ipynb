{
 "cells": [
  {
   "cell_type": "markdown",
   "id": "saved-theory",
   "metadata": {},
   "source": [
    "# Importing Libraries"
   ]
  },
  {
   "cell_type": "code",
   "execution_count": 18,
   "id": "hollow-palestinian",
   "metadata": {},
   "outputs": [],
   "source": [
    "from keras.layers import Input, Lambda, Dense, Flatten\n",
    "from keras import layers,models\n",
    "from keras.models import Model\n",
    "from keras.applications.inception_v3 import InceptionV3, preprocess_input\n",
    "from keras.preprocessing import image\n",
    "from keras.preprocessing.image import ImageDataGenerator\n",
    "from keras.models import Sequential\n",
    "from keras.preprocessing import image\n",
    "from sklearn.model_selection import train_test_split\n",
    "import os\n",
    "import seaborn as sns\n",
    "import numpy as np\n",
    "from glob import glob\n",
    "import matplotlib.pyplot as plt\n",
    "import pandas as pd"
   ]
  },
  {
   "cell_type": "markdown",
   "id": "liked-monitoring",
   "metadata": {},
   "source": [
    "# Preparing the Data"
   ]
  },
  {
   "cell_type": "code",
   "execution_count": 9,
   "id": "psychological-northwest",
   "metadata": {},
   "outputs": [],
   "source": [
    "df = pd.read_csv('dataset/train.csv')"
   ]
  },
  {
   "cell_type": "code",
   "execution_count": 10,
   "id": "aggressive-marriage",
   "metadata": {},
   "outputs": [
    {
     "data": {
      "text/html": [
       "<div>\n",
       "<style scoped>\n",
       "    .dataframe tbody tr th:only-of-type {\n",
       "        vertical-align: middle;\n",
       "    }\n",
       "\n",
       "    .dataframe tbody tr th {\n",
       "        vertical-align: top;\n",
       "    }\n",
       "\n",
       "    .dataframe thead th {\n",
       "        text-align: right;\n",
       "    }\n",
       "</style>\n",
       "<table border=\"1\" class=\"dataframe\">\n",
       "  <thead>\n",
       "    <tr style=\"text-align: right;\">\n",
       "      <th></th>\n",
       "      <th>Image</th>\n",
       "      <th>Class</th>\n",
       "    </tr>\n",
       "  </thead>\n",
       "  <tbody>\n",
       "    <tr>\n",
       "      <th>0</th>\n",
       "      <td>image3476.jpg</td>\n",
       "      <td>Miscellaneous</td>\n",
       "    </tr>\n",
       "    <tr>\n",
       "      <th>1</th>\n",
       "      <td>image5198.jpg</td>\n",
       "      <td>Candle</td>\n",
       "    </tr>\n",
       "    <tr>\n",
       "      <th>2</th>\n",
       "      <td>image4183.jpg</td>\n",
       "      <td>Snowman</td>\n",
       "    </tr>\n",
       "    <tr>\n",
       "      <th>3</th>\n",
       "      <td>image1806.jpg</td>\n",
       "      <td>Miscellaneous</td>\n",
       "    </tr>\n",
       "    <tr>\n",
       "      <th>4</th>\n",
       "      <td>image7831.jpg</td>\n",
       "      <td>Miscellaneous</td>\n",
       "    </tr>\n",
       "  </tbody>\n",
       "</table>\n",
       "</div>"
      ],
      "text/plain": [
       "           Image          Class\n",
       "0  image3476.jpg  Miscellaneous\n",
       "1  image5198.jpg         Candle\n",
       "2  image4183.jpg        Snowman\n",
       "3  image1806.jpg  Miscellaneous\n",
       "4  image7831.jpg  Miscellaneous"
      ]
     },
     "execution_count": 10,
     "metadata": {},
     "output_type": "execute_result"
    }
   ],
   "source": [
    "# Analysis of Dataframe\n",
    "\n",
    "df.head()"
   ]
  },
  {
   "cell_type": "code",
   "execution_count": 11,
   "id": "possible-tongue",
   "metadata": {},
   "outputs": [
    {
     "data": {
      "text/plain": [
       "Miscellaneous     2801\n",
       "Christmas_Tree    1539\n",
       "Jacket             640\n",
       "Candle             593\n",
       "Airplane           535\n",
       "Snowman            361\n",
       "Name: Class, dtype: int64"
      ]
     },
     "execution_count": 11,
     "metadata": {},
     "output_type": "execute_result"
    }
   ],
   "source": [
    "df['Class'].value_counts()"
   ]
  },
  {
   "cell_type": "code",
   "execution_count": 12,
   "id": "tender-joining",
   "metadata": {},
   "outputs": [
    {
     "name": "stderr",
     "output_type": "stream",
     "text": [
      "/Users/sparshbohra/opt/anaconda3/lib/python3.7/site-packages/seaborn/_decorators.py:43: FutureWarning: Pass the following variable as a keyword arg: x. From version 0.12, the only valid positional argument will be `data`, and passing other arguments without an explicit keyword will result in an error or misinterpretation.\n",
      "  FutureWarning\n"
     ]
    },
    {
     "data": {
      "text/plain": [
       "<AxesSubplot:xlabel='Class', ylabel='count'>"
      ]
     },
     "execution_count": 12,
     "metadata": {},
     "output_type": "execute_result"
    },
    {
     "data": {
      "image/png": "[encoded data removed]",
      "text/plain": [
       "<Figure size 432x288 with 1 Axes>"
      ]
     },
     "metadata": {
      "needs_background": "light"
     },
     "output_type": "display_data"
    }
   ],
   "source": [
    "sns.countplot(df['Class'])"
   ]
  },
  {
   "cell_type": "code",
   "execution_count": 13,
   "id": "desirable-catholic",
   "metadata": {},
   "outputs": [],
   "source": [
    "# Data Augmentation\n",
    "\n",
    "datagen = ImageDataGenerator(\n",
    "        preprocessing_function=preprocess_input)"
   ]
  },
  {
   "cell_type": "code",
   "execution_count": 14,
   "id": "periodic-summary",
   "metadata": {},
   "outputs": [
    {
     "name": "stdout",
     "output_type": "stream",
     "text": [
      "Found 6469 validated image filenames belonging to 6 classes.\n"
     ]
    }
   ],
   "source": [
    "train_generator = datagen.flow_from_dataframe(\n",
    "    df,\n",
    "    directory = 'dataset/train',\n",
    "    x_col = 'Image',\n",
    "    y_col = 'Class',\n",
    "    target_size = (299, 299),\n",
    "    class_mode = 'categorical',\n",
    "    batch_size = 32)"
   ]
  },
  {
   "cell_type": "markdown",
   "id": "suited-thought",
   "metadata": {},
   "source": [
    "# Building the Model"
   ]
  },
  {
   "cell_type": "code",
   "execution_count": 21,
   "id": "vulnerable-honey",
   "metadata": {},
   "outputs": [],
   "source": [
    "holidayModel = InceptionV3(include_top = False, weights = 'imagenet', input_shape = (299,299,3))"
   ]
  },
  {
   "cell_type": "code",
   "execution_count": 22,
   "id": "thirty-extension",
   "metadata": {},
   "outputs": [],
   "source": [
    "holidayModel.trainable = False"
   ]
  },
  {
   "cell_type": "code",
   "execution_count": 23,
   "id": "variable-memphis",
   "metadata": {},
   "outputs": [],
   "source": [
    "model = models.Sequential()\n",
    "model.add(holidayModel)\n",
    "model.add(layers.GlobalAveragePooling2D())\n",
    "model.add(layers.Dense(512,activation='relu'))\n",
    "model.add(layers.Dropout(0.5))\n",
    "model.add(layers.Dense(256,activation='relu'))\n",
    "model.add(layers.Dense(6,activation='softmax'))"
   ]
  },
  {
   "cell_type": "code",
   "execution_count": 24,
   "id": "advanced-metro",
   "metadata": {},
   "outputs": [
    {
     "name": "stdout",
     "output_type": "stream",
     "text": [
      "Model: \"sequential_2\"\n",
      "_________________________________________________________________\n",
      "Layer (type)                 Output Shape              Param #   \n",
      "=================================================================\n",
      "inception_v3 (Model)         (None, 8, 8, 2048)        21802784  \n",
      "_________________________________________________________________\n",
      "global_average_pooling2d (Gl (None, 2048)              0         \n",
      "_________________________________________________________________\n",
      "dense (Dense)                (None, 512)               1049088   \n",
      "_________________________________________________________________\n",
      "dropout (Dropout)            (None, 512)               0         \n",
      "_________________________________________________________________\n",
      "dense_1 (Dense)              (None, 256)               131328    \n",
      "_________________________________________________________________\n",
      "dense_2 (Dense)              (None, 6)                 1542      \n",
      "=================================================================\n",
      "Total params: 22,984,742\n",
      "Trainable params: 1,181,958\n",
      "Non-trainable params: 21,802,784\n",
      "_________________________________________________________________\n"
     ]
    }
   ],
   "source": [
    "model.summary()"
   ]
  },
  {
   "cell_type": "code",
   "execution_count": 25,
   "id": "challenging-toner",
   "metadata": {},
   "outputs": [],
   "source": [
    "model.compile(\n",
    "    optimizer='adam',\n",
    "    loss = 'categorical_crossentropy',\n",
    "    metrics = ['accuracy'])"
   ]
  },
  {
   "cell_type": "code",
   "execution_count": 26,
   "id": "expressed-aerospace",
   "metadata": {},
   "outputs": [],
   "source": [
    "train_steps = np.ceil(train_generator.n/train_generator.batch_size)"
   ]
  },
  {
   "cell_type": "code",
   "execution_count": 27,
   "id": "instrumental-surgeon",
   "metadata": {},
   "outputs": [
    {
     "name": "stdout",
     "output_type": "stream",
     "text": [
      "Epoch 1/12\n",
      "203/203 [==============================] - 604s 3s/step - loss: 0.6285 - accuracy: 0.7853\n",
      "Epoch 2/12\n",
      "203/203 [==============================] - 641s 3s/step - loss: 0.3890 - accuracy: 0.8607\n",
      "Epoch 3/12\n",
      "203/203 [==============================] - 649s 3s/step - loss: 0.3317 - accuracy: 0.8851\n",
      "Epoch 4/12\n",
      "203/203 [==============================] - 702s 3s/step - loss: 0.3172 - accuracy: 0.8915\n",
      "Epoch 5/12\n",
      "203/203 [==============================] - 721s 4s/step - loss: 0.2780 - accuracy: 0.9025\n",
      "Epoch 6/12\n",
      "203/203 [==============================] - 691s 3s/step - loss: 0.2506 - accuracy: 0.9097\n",
      "Epoch 7/12\n",
      "203/203 [==============================] - 770s 4s/step - loss: 0.2478 - accuracy: 0.9091\n",
      "Epoch 8/12\n",
      "203/203 [==============================] - 868s 4s/step - loss: 0.2278 - accuracy: 0.9161\n",
      "Epoch 9/12\n",
      "203/203 [==============================] - 789s 4s/step - loss: 0.2068 - accuracy: 0.9236\n",
      "Epoch 10/12\n",
      "203/203 [==============================] - 627s 3s/step - loss: 0.2191 - accuracy: 0.9205\n",
      "Epoch 11/12\n",
      "203/203 [==============================] - 717s 4s/step - loss: 0.1945 - accuracy: 0.9275\n",
      "Epoch 12/12\n",
      "203/203 [==============================] - 636s 3s/step - loss: 0.1918 - accuracy: 0.9272\n"
     ]
    },
    {
     "data": {
      "text/plain": [
       "<tensorflow.python.keras.callbacks.History at 0x7fc06c985810>"
      ]
     },
     "execution_count": 27,
     "metadata": {},
     "output_type": "execute_result"
    }
   ],
   "source": [
    "model.fit(\n",
    "    train_generator,\n",
    "    epochs = 12,\n",
    "    batch_size = 32,\n",
    "    steps_per_epoch = train_steps)"
   ]
  },
  {
   "cell_type": "markdown",
   "id": "controlling-headquarters",
   "metadata": {},
   "source": [
    "# Test Data Prediction"
   ]
  },
  {
   "cell_type": "code",
   "execution_count": 28,
   "id": "homeless-federation",
   "metadata": {},
   "outputs": [
    {
     "data": {
      "text/html": [
       "<div>\n",
       "<style scoped>\n",
       "    .dataframe tbody tr th:only-of-type {\n",
       "        vertical-align: middle;\n",
       "    }\n",
       "\n",
       "    .dataframe tbody tr th {\n",
       "        vertical-align: top;\n",
       "    }\n",
       "\n",
       "    .dataframe thead th {\n",
       "        text-align: right;\n",
       "    }\n",
       "</style>\n",
       "<table border=\"1\" class=\"dataframe\">\n",
       "  <thead>\n",
       "    <tr style=\"text-align: right;\">\n",
       "      <th></th>\n",
       "      <th>Image</th>\n",
       "    </tr>\n",
       "  </thead>\n",
       "  <tbody>\n",
       "    <tr>\n",
       "      <th>0</th>\n",
       "      <td>image8799.jpg</td>\n",
       "    </tr>\n",
       "    <tr>\n",
       "      <th>1</th>\n",
       "      <td>image1965.jpg</td>\n",
       "    </tr>\n",
       "    <tr>\n",
       "      <th>2</th>\n",
       "      <td>image4821.jpg</td>\n",
       "    </tr>\n",
       "    <tr>\n",
       "      <th>3</th>\n",
       "      <td>image1795.jpg</td>\n",
       "    </tr>\n",
       "    <tr>\n",
       "      <th>4</th>\n",
       "      <td>image444.jpg</td>\n",
       "    </tr>\n",
       "  </tbody>\n",
       "</table>\n",
       "</div>"
      ],
      "text/plain": [
       "           Image\n",
       "0  image8799.jpg\n",
       "1  image1965.jpg\n",
       "2  image4821.jpg\n",
       "3  image1795.jpg\n",
       "4   image444.jpg"
      ]
     },
     "execution_count": 28,
     "metadata": {},
     "output_type": "execute_result"
    }
   ],
   "source": [
    "test_df = pd.DataFrame()\n",
    "test_images = os.listdir('dataset/test')\n",
    "test_df['Image'] = test_images\n",
    "test_df.head()"
   ]
  },
  {
   "cell_type": "code",
   "execution_count": 29,
   "id": "functioning-penny",
   "metadata": {},
   "outputs": [
    {
     "name": "stdout",
     "output_type": "stream",
     "text": [
      "Found 3489 validated image filenames.\n"
     ]
    }
   ],
   "source": [
    "# Data Augmentation\n",
    "\n",
    "test_generator = datagen.flow_from_dataframe(\n",
    "    test_df,\n",
    "    directory = 'dataset/test',\n",
    "    x_col = 'Image',\n",
    "    y_col = None,\n",
    "    target_size = (299, 299),\n",
    "    class_mode = None,\n",
    "    batch_size = 32,\n",
    "    shuffle = False )"
   ]
  },
  {
   "cell_type": "code",
   "execution_count": 30,
   "id": "anticipated-tomorrow",
   "metadata": {},
   "outputs": [],
   "source": [
    "test_steps = np.ceil(test_generator.n / test_generator.batch_size)"
   ]
  },
  {
   "cell_type": "code",
   "execution_count": 31,
   "id": "motivated-christian",
   "metadata": {},
   "outputs": [
    {
     "name": "stdout",
     "output_type": "stream",
     "text": [
      "WARNING:tensorflow:From <ipython-input-31-f4d47caf0be6>:4: Model.predict_generator (from tensorflow.python.keras.engine.training) is deprecated and will be removed in a future version.\n",
      "Instructions for updating:\n",
      "Please use Model.predict, which supports generators.\n",
      "110/110 [==============================] - 354s 3s/step\n"
     ]
    }
   ],
   "source": [
    "pred = model.predict_generator(\n",
    "    test_generator,\n",
    "    steps = test_steps,\n",
    "    verbose = 1 )"
   ]
  },
  {
   "cell_type": "code",
   "execution_count": 32,
   "id": "approximate-westminster",
   "metadata": {},
   "outputs": [],
   "source": [
    "pred = np.argmax(pred,axis = -1)"
   ]
  },
  {
   "cell_type": "code",
   "execution_count": 33,
   "id": "surgical-carolina",
   "metadata": {},
   "outputs": [],
   "source": [
    "# Dataframe for submission\n",
    "\n",
    "test_df['Class'] = pred"
   ]
  },
  {
   "cell_type": "code",
   "execution_count": 34,
   "id": "associate-amazon",
   "metadata": {},
   "outputs": [
    {
     "data": {
      "text/plain": [
       "{0: 'Airplane',\n",
       " 1: 'Candle',\n",
       " 2: 'Christmas_Tree',\n",
       " 3: 'Jacket',\n",
       " 4: 'Miscellaneous',\n",
       " 5: 'Snowman'}"
      ]
     },
     "execution_count": 34,
     "metadata": {},
     "output_type": "execute_result"
    }
   ],
   "source": [
    "num_to_class = dict((y,x) for (x,y) in train_generator.class_indices.items())\n",
    "num_to_class"
   ]
  },
  {
   "cell_type": "code",
   "execution_count": 35,
   "id": "informed-example",
   "metadata": {},
   "outputs": [
    {
     "data": {
      "text/html": [
       "<div>\n",
       "<style scoped>\n",
       "    .dataframe tbody tr th:only-of-type {\n",
       "        vertical-align: middle;\n",
       "    }\n",
       "\n",
       "    .dataframe tbody tr th {\n",
       "        vertical-align: top;\n",
       "    }\n",
       "\n",
       "    .dataframe thead th {\n",
       "        text-align: right;\n",
       "    }\n",
       "</style>\n",
       "<table border=\"1\" class=\"dataframe\">\n",
       "  <thead>\n",
       "    <tr style=\"text-align: right;\">\n",
       "      <th></th>\n",
       "      <th>Image</th>\n",
       "      <th>Class</th>\n",
       "    </tr>\n",
       "  </thead>\n",
       "  <tbody>\n",
       "    <tr>\n",
       "      <th>0</th>\n",
       "      <td>image8799.jpg</td>\n",
       "      <td>Jacket</td>\n",
       "    </tr>\n",
       "    <tr>\n",
       "      <th>1</th>\n",
       "      <td>image1965.jpg</td>\n",
       "      <td>Miscellaneous</td>\n",
       "    </tr>\n",
       "    <tr>\n",
       "      <th>2</th>\n",
       "      <td>image4821.jpg</td>\n",
       "      <td>Miscellaneous</td>\n",
       "    </tr>\n",
       "    <tr>\n",
       "      <th>3</th>\n",
       "      <td>image1795.jpg</td>\n",
       "      <td>Miscellaneous</td>\n",
       "    </tr>\n",
       "    <tr>\n",
       "      <th>4</th>\n",
       "      <td>image444.jpg</td>\n",
       "      <td>Miscellaneous</td>\n",
       "    </tr>\n",
       "  </tbody>\n",
       "</table>\n",
       "</div>"
      ],
      "text/plain": [
       "           Image          Class\n",
       "0  image8799.jpg         Jacket\n",
       "1  image1965.jpg  Miscellaneous\n",
       "2  image4821.jpg  Miscellaneous\n",
       "3  image1795.jpg  Miscellaneous\n",
       "4   image444.jpg  Miscellaneous"
      ]
     },
     "execution_count": 35,
     "metadata": {},
     "output_type": "execute_result"
    }
   ],
   "source": [
    "test_df['Class'] = test_df['Class'].map(num_to_class)\n",
    "test_df.head()"
   ]
  },
  {
   "cell_type": "code",
   "execution_count": 36,
   "id": "conditional-policy",
   "metadata": {},
   "outputs": [
    {
     "data": {
      "text/plain": [
       "(3489, 2)"
      ]
     },
     "execution_count": 36,
     "metadata": {},
     "output_type": "execute_result"
    }
   ],
   "source": [
    "test_df.shape"
   ]
  },
  {
   "cell_type": "code",
   "execution_count": 37,
   "id": "neural-sacrifice",
   "metadata": {},
   "outputs": [],
   "source": [
    "# Save submission file\n",
    "\n",
    "test_df.to_csv('attempt2.csv', index = False)"
   ]
  },
  {
   "cell_type": "code",
   "execution_count": null,
   "id": "interstate-formula",
   "metadata": {},
   "outputs": [],
   "source": []
  }
 ],
 "metadata": {
  "kernelspec": {
   "display_name": "Python 3",
   "language": "python",
   "name": "python3"
  },
  "language_info": {
   "codemirror_mode": {
    "name": "ipython",
    "version": 3
   },
   "file_extension": ".py",
   "mimetype": "text/x-python",
   "name": "python",
   "nbconvert_exporter": "python",
   "pygments_lexer": "ipython3",
   "version": "3.7.9"
  }
 },
 "nbformat": 4,
 "nbformat_minor": 5
}
